{
 "cells": [
  {
   "cell_type": "markdown",
   "metadata": {},
   "source": [
    "# Diccionarios\n",
    "\n",
    "90 min | Última modificación: Junio 07, 2020.\n"
   ]
  },
  {
   "cell_type": "markdown",
   "metadata": {},
   "source": [
    "## Crear diccionarios"
   ]
  },
  {
   "cell_type": "markdown",
   "metadata": {},
   "source": [
    "Un diccionario es un conjunto de parejas clave - valor (key-value). Es decir, se accede a cada elemento a partir de su clave. Se definen de la siguiente manera:"
   ]
  },
  {
   "cell_type": "code",
   "execution_count": 1,
   "metadata": {},
   "outputs": [
    {
     "name": "stdout",
     "output_type": "stream",
     "text": [
      "{'nombre': 'james', 'edad': 25, 'nota_media': 7.25}\n"
     ]
    }
   ],
   "source": [
    "estudiante =  dict(nombre = 'james', edad=25, nota_media= 7.25)\n",
    "print(estudiante)"
   ]
  },
  {
   "cell_type": "code",
   "execution_count": 2,
   "metadata": {},
   "outputs": [
    {
     "name": "stdout",
     "output_type": "stream",
     "text": [
      "{'nombre': 'james', 'edad': 25, 'nota_media': 7.25}\n"
     ]
    }
   ],
   "source": [
    "estudiante = {'nombre': 'james', \n",
    "              'edad': 25, \n",
    "              'nota_media': 7.25\n",
    "             }\n",
    "print(estudiante)"
   ]
  },
  {
   "cell_type": "markdown",
   "metadata": {},
   "source": [
    "Algunos de los métodos más utilizados son los siguientes:\n",
    "\n",
    "```dict()``` - Recibe como parámetro una representación de un diccionario y si es factible, devuelve un diccionario de datos.\n",
    "    \n",
    "```diccionario.keys()``` - Devuelve todas las claves del diccionario\n",
    "\n",
    "```diccionario.values()``` - Devuelve todos los valores del diccionario\n",
    "\n",
    "```diccionario.pop(clave[,<default>])``` - Elimina la clave del diccionario y devuelve su valor asociado. Si no la encuentra y se indica un valor por defecto, devuelve el valor por defecto indicado.\n",
    "\n",
    "```diccionario.items()``` - Retorna una lista de elementos, que serán los valores de nuestro diccionario.\n",
    "\n",
    "```diccionario.get()``` - Recibe como parámetro una clave, devuelve el valor de la clave. Si no lo encuentra, devuelve un objeto none.\n",
    "\n",
    "```diccionario.copy()``` - Retorna una copia del diccionario original.\n",
    "\n",
    "```diccionario.fromkeys()``` - Recibe como parámetros un iterable y un valor, devolviendo un diccionario que contiene como claves los elementos del iterable con el mismo valor ingresado. Si el valor no es ingresado, devolverá none para todas las claves.\n",
    "\n",
    "```diccionario.zip()``` - Recibe como parámetro dos elementos iterables, ya sea una cadena, una lista o una tupla. Ambos parámetros deben tener el mismo número de elementos. Se devolverá un diccionario relacionando el elemento i-esimo de cada uno de los iterables.\n",
    "\n",
    "```diccionario.update()``` - Recibe como parámetro otro diccionario. Si se tienen claves iguales, actualiza el valor de la clave repetida; si no hay claves iguales, este par clave-valor es agregado al diccionario.\n",
    "\n",
    "```diccionario.setdefault(clave[,<default>])``` - Funciona como un get o para agregar un nuevo elemento a nuestro diccionario, indicando nueva clave y valor.\n",
    "\n",
    "```diccionario.clear()``` - Vacía el diccionario \n"
   ]
  },
  {
   "cell_type": "markdown",
   "metadata": {},
   "source": [
    "Las claves tienen que ser únicas y estar formadas por un ```string``` o un ```número```. Para acceder al valor de una clave exiten dos maneras distintas:"
   ]
  },
  {
   "cell_type": "code",
   "execution_count": 3,
   "metadata": {},
   "outputs": [
    {
     "name": "stdout",
     "output_type": "stream",
     "text": [
      "25\n"
     ]
    }
   ],
   "source": [
    "edad = estudiante[\"edad\"] # devuelve el valor de 'edad'\n",
    "print(edad)"
   ]
  },
  {
   "cell_type": "code",
   "execution_count": 4,
   "metadata": {},
   "outputs": [
    {
     "name": "stdout",
     "output_type": "stream",
     "text": [
      "7.25\n"
     ]
    },
    {
     "data": {
      "text/plain": [
       "7.25"
      ]
     },
     "execution_count": 4,
     "metadata": {},
     "output_type": "execute_result"
    }
   ],
   "source": [
    "nota_media = estudiante.get(\"nota_media\") # devuelve el valor de 'nota_media'\n",
    "print(nota_media)\n",
    "\n",
    "# o\n",
    "\n",
    "estudiante[\"nota_media\"]"
   ]
  },
  {
   "cell_type": "code",
   "execution_count": 5,
   "metadata": {},
   "outputs": [
    {
     "name": "stdout",
     "output_type": "stream",
     "text": [
      "{'nombre': 'james', 'edad': 25, 'nota_media': 7.25}\n"
     ]
    }
   ],
   "source": [
    "estudiante[\"edad\"] = 25 # actualiza el valor de 'edad'\n",
    "print(estudiante)"
   ]
  },
  {
   "cell_type": "code",
   "execution_count": 6,
   "metadata": {},
   "outputs": [
    {
     "name": "stdout",
     "output_type": "stream",
     "text": [
      "{'nombre': 'james', 'edad': 25, 'nota_media': 7.25, 'suspensos': 3}\n"
     ]
    }
   ],
   "source": [
    "estudiante[\"suspensos\"] = 3 # inserta una nueva pareja clave - valor\n",
    "print(estudiante)"
   ]
  },
  {
   "cell_type": "code",
   "execution_count": 7,
   "metadata": {},
   "outputs": [
    {
     "name": "stdout",
     "output_type": "stream",
     "text": [
      "{'nombre': 'james', 'edad': 25, 'nota_media': 7.25, 'suspensos': 3, 'aprobados': '8'}\n"
     ]
    }
   ],
   "source": [
    "estudiante.update({'aprobados':'8'}) # inserta una nueva pareja clave - valor o actualiza su valor si ya existiera\n",
    "print(estudiante)"
   ]
  },
  {
   "cell_type": "code",
   "execution_count": 8,
   "metadata": {},
   "outputs": [
    {
     "name": "stdout",
     "output_type": "stream",
     "text": [
      "{'a': 1, 'b': 2, 'c': 3, 'd': 4}\n"
     ]
    }
   ],
   "source": [
    "x = dict(zip('abcd',[1,2,3,4])) # devolverá un diccionario relacionando el elemento i-esimo de cada uno de los iterables\n",
    "print(x)"
   ]
  },
  {
   "cell_type": "code",
   "execution_count": 9,
   "metadata": {},
   "outputs": [
    {
     "data": {
      "text/plain": [
       "dict_items([('a', 1), ('b', 2), ('c', 3), ('d', 4)])"
      ]
     },
     "execution_count": 9,
     "metadata": {},
     "output_type": "execute_result"
    }
   ],
   "source": [
    "x.items() # devuelve una tupla de clave - valor"
   ]
  },
  {
   "cell_type": "code",
   "execution_count": 10,
   "metadata": {},
   "outputs": [
    {
     "name": "stdout",
     "output_type": "stream",
     "text": [
      "{}\n"
     ]
    }
   ],
   "source": [
    "x =  {'a': 1, 'b': 2, 'c': 3, 'd': 4}\n",
    "x.clear()\n",
    "print(x)\n"
   ]
  },
  {
   "cell_type": "code",
   "execution_count": 11,
   "metadata": {},
   "outputs": [],
   "source": [
    "x = {'a': 1, 'b': 2, 'c': 3, 'd': 4}\n",
    "y = x  # `y` apunta en memoria al mismo diccionario que `x`."
   ]
  },
  {
   "cell_type": "code",
   "execution_count": 12,
   "metadata": {},
   "outputs": [
    {
     "data": {
      "text/plain": [
       "{'b': 2, 'c': 3, 'd': 4}"
      ]
     },
     "execution_count": 12,
     "metadata": {},
     "output_type": "execute_result"
    }
   ],
   "source": [
    "y.pop('a')  # si se remueve un elemento en el diccionario `y`, también se remueve en el diccionario `x`\n",
    "x"
   ]
  },
  {
   "cell_type": "code",
   "execution_count": 13,
   "metadata": {},
   "outputs": [
    {
     "name": "stdout",
     "output_type": "stream",
     "text": [
      "{'a': 1, 'b': 2, 'c': 3, 'd': 4}\n"
     ]
    }
   ],
   "source": [
    "x =  {'a': 1, 'b': 2, 'c': 3, 'd': 4}\n",
    "y = y.copy() # para evitar el problema anterior se usa `copy()`\n",
    "print(x) "
   ]
  },
  {
   "cell_type": "code",
   "execution_count": 14,
   "metadata": {},
   "outputs": [
    {
     "name": "stdout",
     "output_type": "stream",
     "text": [
      "1\n"
     ]
    }
   ],
   "source": [
    "x =  {'a': 1, 'b': 2, 'c': 3, 'd': 4}\n",
    "print(x.setdefault('a')) # funciona como el get\n"
   ]
  },
  {
   "cell_type": "code",
   "execution_count": 15,
   "metadata": {},
   "outputs": [
    {
     "name": "stdout",
     "output_type": "stream",
     "text": [
      "{'a': 1, 'b': 2, 'c': 3, 'd': 4, 'e': 5}\n"
     ]
    }
   ],
   "source": [
    "x.setdefault('e',5) # agrega la tupla\n",
    "print(x)"
   ]
  },
  {
   "cell_type": "code",
   "execution_count": 16,
   "metadata": {},
   "outputs": [
    {
     "name": "stdout",
     "output_type": "stream",
     "text": [
      "{'a': 1, 'b': 5, 'c': 6, 'd': 4, 'e': 9, 'f': 10}\n"
     ]
    }
   ],
   "source": [
    "x =  {'a': 1, 'b': 2, 'c': 3, 'd': 4}\n",
    "y = {'c' : 6, 'b' : 5, 'e' : 9 , 'f' : 10}\n",
    "x.update(y) # actualiza el valor de la clave repetida; si no agrega la tupla al diccionario\n",
    "print(x)"
   ]
  },
  {
   "cell_type": "markdown",
   "metadata": {},
   "source": [
    "## Recorrer un diccionario\n",
    "\n",
    "La forma más habitual de recorrer un diccionario es mediante la sentencia ```for```. Al recorrer un diccionario, por defecto se iterará sobre sus claves:"
   ]
  },
  {
   "cell_type": "code",
   "execution_count": 17,
   "metadata": {},
   "outputs": [
    {
     "name": "stdout",
     "output_type": "stream",
     "text": [
      "a\n",
      "b\n",
      "c\n"
     ]
    }
   ],
   "source": [
    "diccionario = {'a':1, 'b':2, 'c':3}\n",
    "for key in diccionario:\n",
    "    print(key)"
   ]
  },
  {
   "cell_type": "markdown",
   "metadata": {},
   "source": [
    "Es decir, el código anteiror será equivalente al siguiente:"
   ]
  },
  {
   "cell_type": "code",
   "execution_count": 18,
   "metadata": {},
   "outputs": [
    {
     "name": "stdout",
     "output_type": "stream",
     "text": [
      "a\n",
      "b\n",
      "c\n"
     ]
    }
   ],
   "source": [
    "diccionario = {'a':1, 'b':2, 'c':3}\n",
    "for key in diccionario.keys():\n",
    "    print (key)"
   ]
  },
  {
   "cell_type": "markdown",
   "metadata": {},
   "source": [
    "Otro manera alternativa sería empleando la función items(), la cual devuelve el diccionario como tuplas de tipo (key,value):"
   ]
  },
  {
   "cell_type": "code",
   "execution_count": 19,
   "metadata": {},
   "outputs": [
    {
     "name": "stdout",
     "output_type": "stream",
     "text": [
      "El valor de a is 1\n",
      "El valor de b is 2\n",
      "El valor de c is 3\n"
     ]
    }
   ],
   "source": [
    "diccionario = {'a':1, 'b':2, 'c':3}\n",
    "for key, value in diccionario.items():\n",
    "    print(\"El valor de %s is %d\" % (key, value))"
   ]
  },
  {
   "cell_type": "markdown",
   "metadata": {},
   "source": [
    "## Borrar un elemento\n",
    "\n",
    "Para borrar un elemento de un diccionario se utiliza la instrucción ```del```."
   ]
  },
  {
   "cell_type": "code",
   "execution_count": 20,
   "metadata": {},
   "outputs": [
    {
     "name": "stdout",
     "output_type": "stream",
     "text": [
      "{'bbb': 27, 'ccc': 15}\n"
     ]
    }
   ],
   "source": [
    "edades = {\n",
    "    \"aaa\" : 22,\n",
    "    \"bbb\" : 27,\n",
    "    \"ccc\" : 15\n",
    "}\n",
    "del edades [\"aaa\"]\n",
    "print(edades)"
   ]
  },
  {
   "cell_type": "markdown",
   "metadata": {},
   "source": [
    "Otra alternativa también utilizada y mencionada anteriormente es la función pop(), el cual devuelve el valor del elemento eliminado:"
   ]
  },
  {
   "cell_type": "code",
   "execution_count": 21,
   "metadata": {},
   "outputs": [
    {
     "name": "stdout",
     "output_type": "stream",
     "text": [
      "22\n",
      "{'bbb': 27, 'ccc': 15}\n"
     ]
    }
   ],
   "source": [
    "edades = {\n",
    "    \"aaa\" : 22,\n",
    "    \"bbb\" : 27,\n",
    "    \"ccc\" : 15\n",
    "}\n",
    "print(edades.pop(\"aaa\"))\n",
    "print(edades)"
   ]
  }
 ],
 "metadata": {
  "kernelspec": {
   "display_name": "Python 3",
   "language": "python",
   "name": "python3"
  },
  "language_info": {
   "codemirror_mode": {
    "name": "ipython",
    "version": 3
   },
   "file_extension": ".py",
   "mimetype": "text/x-python",
   "name": "python",
   "nbconvert_exporter": "python",
   "pygments_lexer": "ipython3",
   "version": "3.6.10"
  }
 },
 "nbformat": 4,
 "nbformat_minor": 2
}

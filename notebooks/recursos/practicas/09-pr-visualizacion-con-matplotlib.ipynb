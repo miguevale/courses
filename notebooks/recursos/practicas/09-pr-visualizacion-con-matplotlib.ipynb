{
 "cells": [
  {
   "cell_type": "markdown",
   "metadata": {},
   "source": [
    "# Practica 09 - Visualización con matplotlib\n",
    "\n",
    "Cargue primero los siguientes datos para empezar la práctica"
   ]
  },
  {
   "cell_type": "code",
   "execution_count": 1,
   "metadata": {},
   "outputs": [
    {
     "data": {
      "text/html": [
       "<div>\n",
       "<style scoped>\n",
       "    .dataframe tbody tr th:only-of-type {\n",
       "        vertical-align: middle;\n",
       "    }\n",
       "\n",
       "    .dataframe tbody tr th {\n",
       "        vertical-align: top;\n",
       "    }\n",
       "\n",
       "    .dataframe thead th {\n",
       "        text-align: right;\n",
       "    }\n",
       "</style>\n",
       "<table border=\"1\" class=\"dataframe\">\n",
       "  <thead>\n",
       "    <tr style=\"text-align: right;\">\n",
       "      <th></th>\n",
       "      <th>Population_2018</th>\n",
       "      <th>Country_Name</th>\n",
       "    </tr>\n",
       "  </thead>\n",
       "  <tbody>\n",
       "    <tr>\n",
       "      <th>41</th>\n",
       "      <td>1,392,730,000</td>\n",
       "      <td>China</td>\n",
       "    </tr>\n",
       "    <tr>\n",
       "      <th>88</th>\n",
       "      <td>1,295,604,184</td>\n",
       "      <td>India</td>\n",
       "    </tr>\n",
       "    <tr>\n",
       "      <th>206</th>\n",
       "      <td>318,301,008</td>\n",
       "      <td>United States</td>\n",
       "    </tr>\n",
       "    <tr>\n",
       "      <th>89</th>\n",
       "      <td>255,129,004</td>\n",
       "      <td>Indonesia</td>\n",
       "    </tr>\n",
       "    <tr>\n",
       "      <th>26</th>\n",
       "      <td>209,469,333</td>\n",
       "      <td>Brazil</td>\n",
       "    </tr>\n",
       "    <tr>\n",
       "      <th>148</th>\n",
       "      <td>195,306,825</td>\n",
       "      <td>Pakistan</td>\n",
       "    </tr>\n",
       "    <tr>\n",
       "      <th>144</th>\n",
       "      <td>176,404,902</td>\n",
       "      <td>Nigeria</td>\n",
       "    </tr>\n",
       "    <tr>\n",
       "      <th>15</th>\n",
       "      <td>161,356,039</td>\n",
       "      <td>Bangladesh</td>\n",
       "    </tr>\n",
       "    <tr>\n",
       "      <th>160</th>\n",
       "      <td>143,819,666</td>\n",
       "      <td>Russian Federation</td>\n",
       "    </tr>\n",
       "    <tr>\n",
       "      <th>97</th>\n",
       "      <td>127,276,000</td>\n",
       "      <td>Japan</td>\n",
       "    </tr>\n",
       "  </tbody>\n",
       "</table>\n",
       "</div>"
      ],
      "text/plain": [
       "     Population_2018        Country_Name\n",
       "41     1,392,730,000               China\n",
       "88     1,295,604,184               India\n",
       "206      318,301,008       United States\n",
       "89       255,129,004           Indonesia\n",
       "26       209,469,333              Brazil\n",
       "148      195,306,825            Pakistan\n",
       "144      176,404,902             Nigeria\n",
       "15       161,356,039          Bangladesh\n",
       "160      143,819,666  Russian Federation\n",
       "97       127,276,000               Japan"
      ]
     },
     "execution_count": 1,
     "metadata": {},
     "output_type": "execute_result"
    }
   ],
   "source": [
    "import pandas as pd\n",
    "\n",
    "df = pd.read_csv(\"data/world_bank_data.csv\", sep =';', skiprows=1, \n",
    "                 names=[\"Country_Name\",\n",
    "                        \"Country_Code\",\n",
    "                        \"Continent_Name\",\n",
    "                        \"Continent_Code\",\n",
    "                        \"Population_1960\",\n",
    "                        \"Population_2018\",\n",
    "                        \"GDP_per_capita_1960\",\n",
    "                        \"GDP_per_capita_2018\",\n",
    "                        \"Life_expectancy_at_birth_1960\",\n",
    "                        \"Life_expectancy_at_birth_2018\"\n",
    "])\n",
    "\n",
    "gdp_cap = list(df[\"GDP_per_capita_2018\"][(df[\"Population_2018\"]>0) & (df[\"GDP_per_capita_2018\"]>0) & (df[\"Life_expectancy_at_birth_2018\"]>0)])\n",
    "life_exp = list(df[\"Life_expectancy_at_birth_2018\"][(df[\"Population_2018\"]>0) & (df[\"GDP_per_capita_2018\"]>0) & (df[\"Life_expectancy_at_birth_2018\"]>0)])\n",
    "life_exp_1960 = list(df[\"Life_expectancy_at_birth_1960\"][(df[\"Life_expectancy_at_birth_1960\"]>0) & (df[\"Life_expectancy_at_birth_2018\"]>0)])\n",
    "pop = list(df[\"Population_2018\"][(df[\"Population_2018\"]>0) & (df[\"GDP_per_capita_2018\"]>0) & (df[\"Life_expectancy_at_birth_2018\"]>0)]/1000000)\n",
    "continent = list(df[\"Continent_Name\"][(df[\"Population_2018\"]>0) & (df[\"GDP_per_capita_2018\"]>0) & (df[\"Life_expectancy_at_birth_2018\"]>0)])\n",
    "\n",
    "asian_m=df[[\"Life_expectancy_at_birth_2018\",\"GDP_per_capita_2018\",\"Country_Name\"]][df.Country_Name.isin(['China','India'])]\n",
    "asian_m=asian_m.values.tolist()\n",
    "\n",
    "pd.options.display.float_format = '{:,.0f}'.format\n",
    "df.nlargest(10,\"Population_2018\")[[\"Population_2018\",\"Country_Name\"]]"
   ]
  },
  {
   "cell_type": "markdown",
   "metadata": {},
   "source": [
    "## Gráfico lineal (1)\n",
    "\n",
    "Con matplotlib, puede crear un montón de gráficas diferentes en Python. La gráfica más básica es el gráfico de linea. Aquí se da una receta general.\n",
    "\n",
    "```python\n",
    "import matplotlib.pyplot as plt  \n",
    "plt.plot(x,y)  \n",
    "plt.show()\n",
    "```\n",
    "\n",
    "El banco mundial tiene estimaciones de la población mundial para los años 1960 hasta 2050. Los años se cargan en su espacio de trabajo como una lista llamada year, y las poblaciones correspondientes como una lista llamada pop.\n",
    "\n",
    "<div class=\"alert alert-info\">\n",
    "    \n",
    "**Actividad**\n",
    "    \n",
    "</div>\n",
    "\n",
    "* `print()` el último elemento de `year` la lista `pop` y de la lista para ver cuál es la población prevista para el año 2050. Usa dos funciones `print()`.\n",
    "* Antes de comenzar, debe importar `matplotlib.pyplot` como `plt`. `pyplot` es un subpaquete de `matplotlib`.\n",
    "* Use `plt.plot()` para construir un gráfico lineal. `year` debe mapearse en el eje horizontal, `pop` en el eje vertical. No olvide terminar con la función `show()` para mostrar la gráfica.\n"
   ]
  },
  {
   "cell_type": "code",
   "execution_count": 2,
   "metadata": {},
   "outputs": [],
   "source": [
    "import pandas as pd\n",
    "df = pd.read_csv(\"data/world_population.csv\", sep =';')\n",
    "year = list(df['year'])\n",
    "pop = list(df['pop'])\n",
    "\n",
    "# Print the last item from year and pop\n",
    "\n",
    "\n",
    "\n",
    "# Import matplotlib.pyplot as plt\n",
    "\n",
    "\n",
    "# Make a line plot: year on the x-axis, pop on the y-axis\n",
    "\n",
    "\n",
    "# Display the plot with plt.show()\n",
    "\n"
   ]
  },
  {
   "cell_type": "markdown",
   "metadata": {},
   "source": [
    "## Gráfico lineal (2)\n",
    "\n",
    "<div class=\"alert alert-info\">\n",
    "    \n",
    "**Actividad**\n",
    "    \n",
    "</div>\n",
    "\n",
    "Eche otro vistazo a la gráfica que creó en el ejercicio anterior; se muestra arriba. Según la gráfica, ¿aproximadamente en qué año habrá más de 9 mil millones de seres humanos en este planeta?\n",
    "\n",
    "Respuestas posibles\n",
    "* 2030\n",
    "* 2035\n",
    "* 2040\n",
    "* 2045"
   ]
  },
  {
   "cell_type": "code",
   "execution_count": 3,
   "metadata": {},
   "outputs": [],
   "source": [
    "# Evalúe su respuesta\n",
    "\n",
    "\n"
   ]
  },
  {
   "cell_type": "markdown",
   "metadata": {},
   "source": [
    "## Gráfico lineal (3)\n",
    "\n",
    "Ahora que ha construido su primera gráfica de línea, comencemos a trabajar en los datos del world bank. Hay dos listas disponibles para usted:\n",
    "\n",
    "* `life_exp` que contiene la esperanza de vida de cada país y\n",
    "* `gdp_cap`, que contiene el PIB per cápita (es decir, por persona) para cada país expresado en miles de dólares estadounidenses.\n",
    "\n",
    "El PIB representa Producto Interno Bruto. Básicamente representa el tamaño de la economía de un país. Divida esto entre la población y obtendrá el PIB per cápita.\n",
    "\n",
    "`matplotlib.pyplot` ya está importado como `plt`, por lo que puede comenzar de inmediato.\n",
    "\n",
    "<div class=\"alert alert-info\">\n",
    "    \n",
    "**Actividad**\n",
    "    \n",
    "</div>\n",
    "\n",
    "* Imprima el último elemento tanto de la lista `gdp_cap` como de la lista `life_exp`; Es información mundial.\n",
    "* Construya un gráfico de líneas, con `gdp_cap` en el eje x y en el eje y `life_exp`. ¿Tiene sentido trazar estos datos en un diagrama lineal?\n",
    "* No olvide terminar con un comando `plt.show()`, para mostrar realmente la gráfica.\n"
   ]
  },
  {
   "cell_type": "code",
   "execution_count": 4,
   "metadata": {},
   "outputs": [],
   "source": [
    "# Import matplotlib.pyplot as plt\n",
    "import matplotlib.pyplot as plt\n",
    "\n",
    "# Print the last item of gdp_cap and life_exp\n",
    "\n",
    "\n",
    "\n",
    "# Make a line plot, gdp_cap on the x-axis, life_exp on the y-axis\n",
    "\n",
    "\n",
    "# Display the plot\n",
    "\n"
   ]
  },
  {
   "cell_type": "markdown",
   "metadata": {},
   "source": [
    "## Gráfico de dispersión (1)\n",
    "\n",
    "Cuando tiene una escala de tiempo a lo largo del eje horizontal, la gráfica lineal es su amigo. Pero en muchos otros casos, cuando intenta evaluar si existe una correlación entre dos variables, por ejemplo, el gráfico de dispersión es la mejor opción. A continuación se muestra un ejemplo de cómo construir un gráfico de dispersión.\n",
    "\n",
    "```python\n",
    "import matplotlib.pyplot as plt\n",
    "plt.scatter(x,y)\n",
    "plt.show()\n",
    "```\n",
    "\n",
    "Continuemos con el gráfico gdp_cap versus life_exp, el PIB y los datos de esperanza de vida para diferentes países en 2016. ¿Quizás un gráfico de dispersión será una mejor alternativa?\n",
    "\n",
    "Nuevamente, el paquete `matplotlib.pyplot` está disponible como `plt`.\n",
    "\n",
    "<div class=\"alert alert-info\">\n",
    "    \n",
    "**Actividad**\n",
    "    \n",
    "</div>\n",
    "\n",
    "* Cambie el gráfico lineal que está codificado en el guión a un gráfico de dispersión.\n",
    "* Una correlación quedará clara cuando visualice el PIB per cápita en una escala logarítmica. Agrega la línea `plt.xscale('log')`.\n",
    "* Termine su secuencia de comandos con plt.show()para mostrar la gráfica.\n"
   ]
  },
  {
   "cell_type": "code",
   "execution_count": 5,
   "metadata": {},
   "outputs": [
    {
     "data": {
      "text/plain": [
       "[<matplotlib.lines.Line2D at 0x18731ebdeb8>]"
      ]
     },
     "execution_count": 5,
     "metadata": {},
     "output_type": "execute_result"
    },
    {
     "data": {
      "image/png": "[encoded data removed]",
      "text/plain": [
       "<Figure size 432x288 with 1 Axes>"
      ]
     },
     "metadata": {
      "needs_background": "light"
     },
     "output_type": "display_data"
    }
   ],
   "source": [
    "# Change the line plot below to a scatter plot\n",
    "plt.plot(gdp_cap, life_exp)\n",
    "\n",
    "# Put the x-axis on a logarithmic scale\n",
    "\n",
    "\n",
    "# Show plot\n"
   ]
  },
  {
   "cell_type": "markdown",
   "metadata": {},
   "source": [
    "## Gráfico de dispersión (2)\n",
    "\n",
    "En el ejercicio anterior, viste que el mayor PIB generalmente corresponde a una mayor esperanza de vida. En otras palabras, hay una correlación positiva.\n",
    "\n",
    "¿Crees que hay una relación entre la población y la esperanza de vida de un país? La lista `life_exp` del ejercicio anterior ya está disponible. Además, ahora también popestá disponible, enumerando las poblaciones correspondientes a los países en 2016. Las poblaciones están en millones de personas.\n",
    "\n",
    "<div class=\"alert alert-info\">\n",
    "    \n",
    "**Actividad**\n",
    "    \n",
    "</div>\n",
    "\n",
    "* Comience desde cero: importe `matplotlib.pyplot` como `plt`.\n",
    "* Cree un diagrama de dispersión, donde `pop` se asigna en el eje horizontal y `life_exp` se asigna en el eje vertical.\n",
    "* Termine el guión con `plt.show()` para mostrar la gráfica. ¿Ves una correlación?"
   ]
  },
  {
   "cell_type": "code",
   "execution_count": 6,
   "metadata": {},
   "outputs": [],
   "source": [
    "# Import package\n",
    "\n",
    "\n",
    "# Build Scatter plot\n",
    "\n",
    "\n",
    "# Show plot\n"
   ]
  },
  {
   "cell_type": "markdown",
   "metadata": {},
   "source": [
    "## Construir un histograma (1)\n",
    "\n",
    "`life_exp`, la lista que contiene datos sobre la esperanza de vida de diferentes países en 2016, está disponible en su libro de jupyter.\n",
    "\n",
    "Para ver cómo se distribuye la esperanza de vida en diferentes países, creemos un histograma de life_exp.\n",
    "\n",
    "`matplotlib.pyplot` ya está disponible como `plt`.\n",
    "\n",
    "<div class=\"alert alert-info\">\n",
    "    \n",
    "**Actividad**\n",
    "    \n",
    "</div>\n",
    "\n",
    "* Use `plt.hist()` para crear un histograma de los valores en `life_exp`. No especifique el número de clases; Python establecerá el número de clases en 10 de forma predeterminada para usted.\n",
    "* Agregar `plt.show()` para mostrar realmente el histograma. ¿Puedes decir qué clase contiene más observaciones?"
   ]
  },
  {
   "cell_type": "code",
   "execution_count": 7,
   "metadata": {},
   "outputs": [],
   "source": [
    "# Import matplotlib.pyplot as plt\n",
    "import matplotlib.pyplot as plt\n",
    "\n",
    "# Create histogram of life_exp data\n",
    "\n",
    "\n",
    "# Display histogram\n"
   ]
  },
  {
   "cell_type": "markdown",
   "metadata": {},
   "source": [
    "## Construir un histograma (2): clases\n",
    "    \n",
    "En el ejercicio anterior, no especificó el número de clases. Por defecto, Python establece el número de bins en 10 en ese caso. El número de clases es bastante importante. Muy pocas clases simplificarán demasiado la realidad y no le mostrarán los detalles. Demasiadas clases complicarán demasiado la realidad y no mostrarán una imagen más grande.\n",
    "\n",
    "Para controlar el número de clases en los que dividir sus datos, puede establecer el argumento `bins`.\n",
    "\n",
    "Eso es exactamente lo que harás en este ejercicio. Harás dos gráficas aquí. El código en el script ya incluye `plt.show()` y llama `plt.clf()`; `plt.show()` muestra una gráfica; `plt.clf()` lo limpia nuevamente para que pueda comenzar de nuevo.\n",
    "\n",
    "Como antes, `life_exp` está disponible y `matplotlib.pyplot` se importa como `plt`.\n",
    "\n",
    "<div class=\"alert alert-info\">\n",
    "    \n",
    "**Actividad**\n",
    "    \n",
    "</div>\n",
    "\n",
    "* Construye un histograma de `life_exp`, con 5 clases. ¿Puedes decir qué clase contiene más observaciones?\n",
    "* Construye otro histograma de `life_exp`, esta vez con 30 clases. ¿Es esto mejor?"
   ]
  },
  {
   "cell_type": "code",
   "execution_count": 8,
   "metadata": {},
   "outputs": [
    {
     "data": {
      "text/plain": [
       "<Figure size 432x288 with 0 Axes>"
      ]
     },
     "metadata": {},
     "output_type": "display_data"
    },
    {
     "data": {
      "text/plain": [
       "<Figure size 432x288 with 0 Axes>"
      ]
     },
     "metadata": {},
     "output_type": "display_data"
    }
   ],
   "source": [
    "# Import matplotlib.pyplot as plt\n",
    "import matplotlib.pyplot as plt\n",
    "\n",
    "# Build histogram with 5 bins\n",
    "\n",
    "\n",
    "# Show and clean up plot\n",
    "plt.show()\n",
    "plt.clf()\n",
    "\n",
    "# Build histogram with 30 bins\n",
    "\n",
    "\n",
    "# Show and clean up again\n",
    "plt.show()\n",
    "plt.clf()"
   ]
  },
  {
   "cell_type": "markdown",
   "metadata": {},
   "source": [
    "## Construir un histograma (3): comparar\n",
    "\n",
    "Hagamos una comparación similar. `life_exp` contiene datos de esperanza de vida para diferentes países en 2016. También tiene acceso a una segunda lista ahora `life_exp_1960`, que contiene datos similares para 1960. ¿Puede hacer un histograma para ambos conjuntos de datos?\n",
    "\n",
    "<div class=\"alert alert-info\">\n",
    "    \n",
    "**Actividad**\n",
    "    \n",
    "</div>\n",
    "\n",
    "* Volverás a hacer dos gráficas comparando `life_exp` y `life_exp_1960`. Los comandos `plt.show()` y `plt.clf()` para representar todo bien ya están incluidos. También `matplotlib.pyplot` se importa para ti, como `plt`."
   ]
  },
  {
   "cell_type": "code",
   "execution_count": 9,
   "metadata": {},
   "outputs": [
    {
     "data": {
      "text/plain": [
       "<Figure size 432x288 with 0 Axes>"
      ]
     },
     "metadata": {},
     "output_type": "display_data"
    },
    {
     "data": {
      "text/plain": [
       "<Figure size 432x288 with 0 Axes>"
      ]
     },
     "metadata": {},
     "output_type": "display_data"
    }
   ],
   "source": [
    "# Import matplotlib.pyplot as plt\n",
    "import matplotlib.pyplot as plt\n",
    "\n",
    "# Histogram of life_exp, 15 bins\n",
    "\n",
    "\n",
    "# Show and clear plot\n",
    "plt.show()\n",
    "plt.clf()\n",
    "\n",
    "# Histogram of life_exp_1960, 15 bins\n",
    "\n",
    "\n",
    "# Show and clear plot again\n",
    "plt.show()\n",
    "plt.clf()"
   ]
  },
  {
   "cell_type": "markdown",
   "metadata": {},
   "source": [
    "## Labels\n",
    "\n",
    "Es hora de personalizar tu propia gráfica. Esta es la parte divertida, ¡verás tu gráfica cobrar vida!\n",
    "\n",
    "Trabajará en el gráfico de dispersión con datos del banco de desarrollo mundial: PIB per cápita en el eje `x` (escala logarítmica), esperanza de vida en el eje `y`. El código para esta gráfica está disponible en el script.\n",
    "\n",
    "Como primer paso, agreguemos etiquetas de eje y un título a la gráfica. Usted puede hacer esto con las funciones `xlabel()`, `ylabel()` y `title()`, disponibles en `matplotlib.pyplot`. Este subpaquete ya está importado como `plt`.\n",
    "\n",
    "<div class=\"alert alert-info\">\n",
    "    \n",
    "**Actividad**\n",
    "    \n",
    "</div>\n",
    "\n",
    "* Las lineas `xlaby`, `ylab` ya están configuradas para ti. Use estas variables para establecer la etiqueta de los ejes `x` e `y`.\n",
    "* El string `title` también está codificada para ti. Úselo para agregar un título a la gráfica.\n",
    "* Después de estas personalizaciones, finalice el script con `plt.show()` para mostrar la gráfica.\n"
   ]
  },
  {
   "cell_type": "code",
   "execution_count": 10,
   "metadata": {},
   "outputs": [
    {
     "data": {
      "image/png": "[encoded data removed]",
      "text/plain": [
       "<Figure size 432x288 with 1 Axes>"
      ]
     },
     "metadata": {
      "needs_background": "light"
     },
     "output_type": "display_data"
    }
   ],
   "source": [
    "# Import matplotlib.pyplot as plt\n",
    "import matplotlib.pyplot as plt\n",
    "\n",
    "# Basic scatter plot, log scale\n",
    "plt.scatter(gdp_cap, life_exp)\n",
    "plt.xscale('log') \n",
    "\n",
    "# Strings\n",
    "xlab = 'GDP per Capita [in USD]'\n",
    "ylab = 'Life Expectancy [in years]'\n",
    "title = 'World Development in 2018'\n",
    "\n",
    "# Add axis labels\n",
    "\n",
    "\n",
    "\n",
    "# Add title\n",
    "\n",
    "\n",
    "\n",
    "# After customizing, display the plot\n",
    "plt.show()"
   ]
  },
  {
   "cell_type": "markdown",
   "metadata": {},
   "source": [
    "## Ticks\n",
    "\n",
    "Las personalizaciones que ha codificado hasta ahora están disponibles en el script, en una forma más concisa.\n",
    "\n",
    "En el video, Hugo demostró cómo puedes controlar los t-y al especificar dos argumentos:\n",
    "\n",
    "```python\n",
    "plt.yticks([0,1,2], [\"one\",\"two\",\"three\"])\n",
    "```\n",
    "\n",
    "En este ejemplo, los ticks correspondientes a los números 0, 1 y 2 serán reemplazados por uno , dos y tres , respectivamente.\n",
    "\n",
    "Hagamos algo similar para el eje x de su gráfico de desarrollo mundial, con la función `xticks()`. Los valores de tick *1000, 10000 y 100000* deben ser reemplazados por *1k, 10ky 100k*. Con este fin, ya se han creado dos listas para usted: `tick_val` y `tick_lab`.\n",
    "\n",
    "<div class=\"alert alert-info\">\n",
    "    \n",
    "**Actividad**\n",
    "    \n",
    "</div>\n",
    "\n",
    "* Use `tick_val` y `tick_lab` como entradas para la función `xticks()` para hacer que la gráfica sea más legible.\n",
    "* Como de costumbre, muestre el diagrama `plt.show()` después de haber agregado las personalizaciones.\n"
   ]
  },
  {
   "cell_type": "code",
   "execution_count": 11,
   "metadata": {},
   "outputs": [
    {
     "data": {
      "image/png": "[encoded data removed]",
      "text/plain": [
       "<Figure size 432x288 with 1 Axes>"
      ]
     },
     "metadata": {
      "needs_background": "light"
     },
     "output_type": "display_data"
    }
   ],
   "source": [
    "# Scatter plot\n",
    "plt.scatter(gdp_cap, life_exp)\n",
    "\n",
    "# Previous customizations\n",
    "plt.xscale('log') \n",
    "plt.xlabel('GDP per Capita [in USD]')\n",
    "plt.ylabel('Life Expectancy [in years]')\n",
    "plt.title('World Development in 2018')\n",
    "\n",
    "# Definition of tick_val and tick_lab\n",
    "tick_val = [1000, 10000, 100000]\n",
    "tick_lab = ['1k', '10k', '100k']\n",
    "\n",
    "# Adapt the ticks on the x-axis\n",
    "\n",
    "\n",
    "# After customizing, display the plot\n"
   ]
  },
  {
   "cell_type": "markdown",
   "metadata": {},
   "source": [
    "## Tamaños\n",
    "\n",
    "En este momento, el gráfico de dispersión es solo una nube de puntos azules, indistinguibles entre sí. Cambiemos esto. ¿No sería bueno si el tamaño de los puntos corresponde a la población?\n",
    "\n",
    "Para lograr esto, hay una lista `pop` cargada en su espacio de trabajo. Contiene números de población para cada país expresados en millones. Puede ver que esta lista se agrega al método de dispersión, como argumento `s`, para el tamaño.\n",
    "\n",
    "<div class=\"alert alert-info\">\n",
    "    \n",
    "**Actividad**\n",
    "    \n",
    "</div>\n",
    "\n",
    "* Ejecute el script para ver cómo cambia la gráfica.\n",
    "* Se ve bien, pero aumentar el tamaño de las burbujas hará que las cosas se destaquen más.\n",
    "    * Importe el paquete `numpy` como `np`.\n",
    "    * Úselo `np.array()` para crear una matriz numpy de la lista `pop`. Llame a este conjunto de Numpy `np_pop`.\n",
    "    * Duplique los valores de `np_pop` al establecer el valor de `np_pop` igual a `np_pop * 2`. Debido a que `np_pop` es una matriz Numpy, cada elemento de la matriz se duplicará.\n",
    "    * Cambie el `s` argumento dentro `plt.scatter()` para ser `np_pop` en lugar de `pop`."
   ]
  },
  {
   "cell_type": "code",
   "execution_count": 12,
   "metadata": {},
   "outputs": [
    {
     "data": {
      "image/png": "[encoded data removed]",
      "text/plain": [
       "<Figure size 432x288 with 1 Axes>"
      ]
     },
     "metadata": {
      "needs_background": "light"
     },
     "output_type": "display_data"
    }
   ],
   "source": [
    "# Import numpy as np\n",
    "\n",
    "\n",
    "# Store pop as a numpy array: np_pop\n",
    "\n",
    "\n",
    "# Double np_pop\n",
    "\n",
    "\n",
    "# Update: set s argument to np_pop\n",
    "plt.scatter(gdp_cap, life_exp, s = pop)\n",
    "\n",
    "# Previous customizations\n",
    "plt.xscale('log') \n",
    "plt.xlabel('GDP per Capita [in USD]')\n",
    "plt.ylabel('Life Expectancy [in years]')\n",
    "plt.title('World Development in 2018')\n",
    "plt.xticks([1000, 10000, 100000],['1k', '10k', '100k'])\n",
    "\n",
    "# Display the plot\n",
    "plt.show()"
   ]
  },
  {
   "cell_type": "markdown",
   "metadata": {},
   "source": [
    "## Colores\n",
    "\n",
    "El código que ha escrito hasta ahora está disponible en el script.\n",
    "\n",
    "¡El siguiente paso es hacer que la gráfica sea más colorida! Para hacer esto, se ha creado una lista `col` para usted. Es una lista con un color para cada país correspondiente, dependiendo del continente del que forma parte el país.\n",
    "\n",
    "¿Cómo hicimos la lista `col` que preguntas? Los datos del banco mundial contienen una lista `continent` con el continente al que pertenece cada país. Se construye un diccionario que mapea continentes en colores:\n",
    "\n",
    "```python\n",
    "dict = {\n",
    "            'Asia':'red',  \n",
    "            'Europe':'green',  \n",
    "            'Africa':'blue',  \n",
    "            'Americas':'yellow',  \n",
    "            'Oceania':'black'  \n",
    "}\n",
    "```\n",
    "<div class=\"alert alert-info\">\n",
    "    \n",
    "**Actividad**\n",
    "    \n",
    "</div>\n",
    "\n",
    "* Añadir *c = col* a los argumentos de la función `plt.scatter()`.\n",
    "* Cambia la opacidad de las burbujas configurando el argumento `alpha=0.8` en el interior `plt.scatter()`. `Alpha` se puede establecer de cero a uno, donde cero es totalmente transparente y uno no es nada transparente."
   ]
  },
  {
   "cell_type": "code",
   "execution_count": 13,
   "metadata": {},
   "outputs": [
    {
     "ename": "NameError",
     "evalue": "name 'np' is not defined",
     "output_type": "error",
     "traceback": [
      "\u001b[1;31m---------------------------------------------------------------------------\u001b[0m",
      "\u001b[1;31mNameError\u001b[0m                                 Traceback (most recent call last)",
      "\u001b[1;32m<ipython-input-13-b25036c2cb4e>\u001b[0m in \u001b[0;36m<module>\u001b[1;34m\u001b[0m\n\u001b[0;32m     12\u001b[0m \u001b[1;33m\u001b[0m\u001b[0m\n\u001b[0;32m     13\u001b[0m \u001b[1;31m# Specify c and alpha inside plt.scatter()\u001b[0m\u001b[1;33m\u001b[0m\u001b[1;33m\u001b[0m\u001b[1;33m\u001b[0m\u001b[0m\n\u001b[1;32m---> 14\u001b[1;33m \u001b[0mplt\u001b[0m\u001b[1;33m.\u001b[0m\u001b[0mscatter\u001b[0m\u001b[1;33m(\u001b[0m\u001b[0mx\u001b[0m \u001b[1;33m=\u001b[0m \u001b[0mgdp_cap\u001b[0m\u001b[1;33m,\u001b[0m \u001b[0my\u001b[0m \u001b[1;33m=\u001b[0m \u001b[0mlife_exp\u001b[0m\u001b[1;33m,\u001b[0m \u001b[0ms\u001b[0m \u001b[1;33m=\u001b[0m \u001b[0mnp\u001b[0m\u001b[1;33m.\u001b[0m\u001b[0marray\u001b[0m\u001b[1;33m(\u001b[0m\u001b[0mpop\u001b[0m\u001b[1;33m)\u001b[0m \u001b[1;33m*\u001b[0m \u001b[1;36m2\u001b[0m\u001b[1;33m)\u001b[0m\u001b[1;33m\u001b[0m\u001b[1;33m\u001b[0m\u001b[0m\n\u001b[0m\u001b[0;32m     15\u001b[0m \u001b[1;33m\u001b[0m\u001b[0m\n\u001b[0;32m     16\u001b[0m \u001b[1;31m# Previous customizations\u001b[0m\u001b[1;33m\u001b[0m\u001b[1;33m\u001b[0m\u001b[1;33m\u001b[0m\u001b[0m\n",
      "\u001b[1;31mNameError\u001b[0m: name 'np' is not defined"
     ]
    }
   ],
   "source": [
    "convencion = {\n",
    "            'Asia':'red',  \n",
    "            'Europe':'green',  \n",
    "            'Africa':'blue',  \n",
    "            'Americas':'yellow',  \n",
    "            'Oceania':'black'  \n",
    "}\n",
    "\n",
    "col = []\n",
    "for x in continent:\n",
    "    col.append(convencion.get(x))\n",
    "    \n",
    "# Specify c and alpha inside plt.scatter()\n",
    "plt.scatter(x = gdp_cap, y = life_exp, s = np.array(pop) * 2)\n",
    "\n",
    "# Previous customizations\n",
    "plt.xscale('log') \n",
    "plt.xlabel('GDP per Capita [in USD]')\n",
    "plt.ylabel('Life Expectancy [in years]')\n",
    "plt.title('World Development in 2018')\n",
    "plt.xticks([1000,10000,100000], ['1k','10k','100k'])\n",
    "\n",
    "# Show the plot\n",
    "plt.show()"
   ]
  },
  {
   "cell_type": "markdown",
   "metadata": {},
   "source": [
    "## Additional Customizations\n",
    "\n",
    "Si tiene otra mirada al script, debajo **# Additional Customizations**, verá que ahora hay dos funciones `plt.text()`. Añaden las palabras \"India\" y \"China\"en la gráfica.\n",
    "\n",
    "<div class=\"alert alert-info\">\n",
    "    \n",
    "**Actividad**\n",
    "    \n",
    "</div>\n",
    "\n",
    "* Agregue `plt.grid(True)` después de las funciones `plt.text()` para que las líneas de cuadrícula se dibujen en el gráfica."
   ]
  },
  {
   "cell_type": "code",
   "execution_count": 14,
   "metadata": {},
   "outputs": [
    {
     "ename": "NameError",
     "evalue": "name 'np' is not defined",
     "output_type": "error",
     "traceback": [
      "\u001b[1;31m---------------------------------------------------------------------------\u001b[0m",
      "\u001b[1;31mNameError\u001b[0m                                 Traceback (most recent call last)",
      "\u001b[1;32m<ipython-input-14-0c9bd398365b>\u001b[0m in \u001b[0;36m<module>\u001b[1;34m\u001b[0m\n\u001b[0;32m      1\u001b[0m \u001b[1;31m# Scatter plot\u001b[0m\u001b[1;33m\u001b[0m\u001b[1;33m\u001b[0m\u001b[1;33m\u001b[0m\u001b[0m\n\u001b[1;32m----> 2\u001b[1;33m \u001b[0mplt\u001b[0m\u001b[1;33m.\u001b[0m\u001b[0mscatter\u001b[0m\u001b[1;33m(\u001b[0m\u001b[0mx\u001b[0m \u001b[1;33m=\u001b[0m \u001b[0mgdp_cap\u001b[0m\u001b[1;33m,\u001b[0m \u001b[0my\u001b[0m \u001b[1;33m=\u001b[0m \u001b[0mlife_exp\u001b[0m\u001b[1;33m,\u001b[0m \u001b[0ms\u001b[0m \u001b[1;33m=\u001b[0m \u001b[0mnp\u001b[0m\u001b[1;33m.\u001b[0m\u001b[0marray\u001b[0m\u001b[1;33m(\u001b[0m\u001b[0mpop\u001b[0m\u001b[1;33m)\u001b[0m \u001b[1;33m*\u001b[0m \u001b[1;36m2\u001b[0m\u001b[1;33m,\u001b[0m \u001b[0mc\u001b[0m \u001b[1;33m=\u001b[0m \u001b[0mcol\u001b[0m\u001b[1;33m,\u001b[0m \u001b[0malpha\u001b[0m \u001b[1;33m=\u001b[0m \u001b[1;36m0.8\u001b[0m\u001b[1;33m)\u001b[0m\u001b[1;33m\u001b[0m\u001b[1;33m\u001b[0m\u001b[0m\n\u001b[0m\u001b[0;32m      3\u001b[0m \u001b[1;33m\u001b[0m\u001b[0m\n\u001b[0;32m      4\u001b[0m \u001b[1;31m# Previous customizations\u001b[0m\u001b[1;33m\u001b[0m\u001b[1;33m\u001b[0m\u001b[1;33m\u001b[0m\u001b[0m\n\u001b[0;32m      5\u001b[0m \u001b[0mplt\u001b[0m\u001b[1;33m.\u001b[0m\u001b[0mxscale\u001b[0m\u001b[1;33m(\u001b[0m\u001b[1;34m'log'\u001b[0m\u001b[1;33m)\u001b[0m\u001b[1;33m\u001b[0m\u001b[1;33m\u001b[0m\u001b[0m\n",
      "\u001b[1;31mNameError\u001b[0m: name 'np' is not defined"
     ]
    }
   ],
   "source": [
    "# Scatter plot\n",
    "plt.scatter(x = gdp_cap, y = life_exp, s = np.array(pop) * 2, c = col, alpha = 0.8)\n",
    "\n",
    "# Previous customizations\n",
    "plt.xscale('log') \n",
    "plt.xlabel('GDP per Capita [in USD]')\n",
    "plt.ylabel('Life Expectancy [in years]')\n",
    "plt.title('World Development in 2018')\n",
    "plt.xticks([1000,10000,100000], ['1k','10k','100k'])\n",
    "\n",
    "# Additional customizations\n",
    "plt.text(asian_m[0][1], asian_m[0][0], asian_m[0][2])\n",
    "plt.text(asian_m[1][1], asian_m[1][0], asian_m[1][2])\n",
    "\n",
    "# Add grid() call\n",
    "\n",
    "\n",
    "# Show the plot\n",
    "plt.show()"
   ]
  },
  {
   "cell_type": "markdown",
   "metadata": {},
   "source": [
    "## Interpretación\n",
    "\n",
    "Si observa su gráfica colorida, está claro que las personas viven más en países con un PIB per cápita más alto. Ningún país de altos ingresos tiene una esperanza de vida realmente corta, y ningún país de bajos ingresos tiene una esperanza de vida muy larga. Aún así, hay una gran diferencia en la esperanza de vida entre países con el mismo nivel de ingresos. La mayoría de las personas vive en países de ingresos medios donde la diferencia en la esperanza de vida es enorme entre países; dependiendo de cómo se distribuye el ingreso y cómo se usa.\n",
    "\n",
    "¿Qué puedes decir sobre la gráfrica?\n",
    "\n",
    "<div class=\"alert alert-info\">\n",
    "    \n",
    "**Actividad**\n",
    "    \n",
    "</div>\n",
    "\n",
    "Respuestas posibles\n",
    "* Los países en azul, correspondientes a África, tienen una baja esperanza de vida y un bajo PIB per cápita.\n",
    "* Existe una correlación negativa entre el PIB per cápita y la esperanza de vida.\n",
    "* China tiene un menor PIB per cápita y una menor esperanza de vida en comparación con India."
   ]
  },
  {
   "cell_type": "code",
   "execution_count": 15,
   "metadata": {},
   "outputs": [],
   "source": [
    "# Evalúe su respuesta\n",
    "\n",
    "\n"
   ]
  }
 ],
 "metadata": {
  "kernelspec": {
   "display_name": "Python 3",
   "language": "python",
   "name": "python3"
  },
  "language_info": {
   "codemirror_mode": {
    "name": "ipython",
    "version": 3
   },
   "file_extension": ".py",
   "mimetype": "text/x-python",
   "name": "python",
   "nbconvert_exporter": "python",
   "pygments_lexer": "ipython3",
   "version": "3.6.10"
  }
 },
 "nbformat": 4,
 "nbformat_minor": 2
}
